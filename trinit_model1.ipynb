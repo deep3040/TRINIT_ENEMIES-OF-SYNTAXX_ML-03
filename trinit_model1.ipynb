{
  "nbformat": 4,
  "nbformat_minor": 0,
  "metadata": {
    "colab": {
      "provenance": [],
      "authorship_tag": "ABX9TyOfQbBn8DDEZEoReNC1nED4",
      "include_colab_link": true
    },
    "kernelspec": {
      "name": "python3",
      "display_name": "Python 3"
    },
    "language_info": {
      "name": "python"
    },
    "widgets": {
      "application/vnd.jupyter.widget-state+json": {
        "2d59c7aadb4b41ef96602195d6b739cb": {
          "model_module": "@jupyter-widgets/controls",
          "model_name": "VBoxModel",
          "model_module_version": "1.5.0",
          "state": {
            "_dom_classes": [
              "widget-interact"
            ],
            "_model_module": "@jupyter-widgets/controls",
            "_model_module_version": "1.5.0",
            "_model_name": "VBoxModel",
            "_view_count": null,
            "_view_module": "@jupyter-widgets/controls",
            "_view_module_version": "1.5.0",
            "_view_name": "VBoxView",
            "box_style": "",
            "children": [
              "IPY_MODEL_419ccade5b7c4878a343c35483658061",
              "IPY_MODEL_db8a67b0f96841e78781436c4fd0cdc4"
            ],
            "layout": "IPY_MODEL_f1e4f69aa5694a93816ac4dba19fecfc"
          }
        },
        "419ccade5b7c4878a343c35483658061": {
          "model_module": "@jupyter-widgets/controls",
          "model_name": "DropdownModel",
          "model_module_version": "1.5.0",
          "state": {
            "_dom_classes": [],
            "_model_module": "@jupyter-widgets/controls",
            "_model_module_version": "1.5.0",
            "_model_name": "DropdownModel",
            "_options_labels": [
              "rice",
              "maize",
              "jute",
              "cotton",
              "coconut",
              "papaya",
              "orange",
              "apple",
              "muskmelon",
              "watermelon",
              "grapes",
              "mango",
              "banana",
              "pomegranate",
              "lentil",
              "blackgram",
              "mungbean",
              "mothbeans",
              "pigeonpeas",
              "kidneybeans",
              "chickpea",
              "coffee"
            ],
            "_view_count": null,
            "_view_module": "@jupyter-widgets/controls",
            "_view_module_version": "1.5.0",
            "_view_name": "DropdownView",
            "description": "crops",
            "description_tooltip": null,
            "disabled": false,
            "index": 0,
            "layout": "IPY_MODEL_3f17be1e688f475f8f4f544b2de0d14a",
            "style": "IPY_MODEL_3ee9f19ca4a741239921f6c805c31a77"
          }
        },
        "db8a67b0f96841e78781436c4fd0cdc4": {
          "model_module": "@jupyter-widgets/output",
          "model_name": "OutputModel",
          "model_module_version": "1.0.0",
          "state": {
            "_dom_classes": [],
            "_model_module": "@jupyter-widgets/output",
            "_model_module_version": "1.0.0",
            "_model_name": "OutputModel",
            "_view_count": null,
            "_view_module": "@jupyter-widgets/output",
            "_view_module_version": "1.0.0",
            "_view_name": "OutputView",
            "layout": "IPY_MODEL_467ac09e47e14d0e96f3cbd0643ff78c",
            "msg_id": "",
            "outputs": [
              {
                "output_type": "stream",
                "name": "stdout",
                "text": [
                  "---------------------------------------------\n",
                  "Statistics for Nitrogen\n",
                  "Minimum Nitrigen required : 60\n",
                  "Average Nitrogen required : 79.89\n",
                  "Maximum Nitrogen required : 99\n",
                  "---------------------------------------------\n",
                  "Statistics for Phosphorous\n",
                  "Minimum Phosphorous required : 35\n",
                  "Average Phosphorous required : 47.58\n",
                  "Maximum Phosphorous required : 60\n",
                  "---------------------------------------------\n",
                  "Statistics for Potassium\n",
                  "Minimum Potassium required : 35\n",
                  "Average Potassium required : 39.87\n",
                  "Maximum Potassium required : 45\n",
                  "---------------------------------------------\n",
                  "Statistics for Temperature\n",
                  "Minimum Temperature required : 20.05\n",
                  "Average Temperature required : 23.69\n",
                  "Maximum Temperature required : 26.93\n",
                  "---------------------------------------------\n",
                  "Statistics for Humidity\n",
                  "Minimum Humidity required : 80.12\n",
                  "Average Humidity required : 82.27\n",
                  "Maximum Humidity required : 84.97\n",
                  "---------------------------------------------\n",
                  "Statistics for PH\n",
                  "Minimum PH required : 5.01\n",
                  "Average PH required : 6.43\n",
                  "Maximum PH required : 7.87\n",
                  "---------------------------------------------\n",
                  "Statistics for Rainfall\n",
                  "Minimum Rainfall required : 182.56\n",
                  "Average Rainfall required : 236.18\n",
                  "Maximum Rainfall required : 298.56\n"
                ]
              }
            ]
          }
        },
        "f1e4f69aa5694a93816ac4dba19fecfc": {
          "model_module": "@jupyter-widgets/base",
          "model_name": "LayoutModel",
          "model_module_version": "1.2.0",
          "state": {
            "_model_module": "@jupyter-widgets/base",
            "_model_module_version": "1.2.0",
            "_model_name": "LayoutModel",
            "_view_count": null,
            "_view_module": "@jupyter-widgets/base",
            "_view_module_version": "1.2.0",
            "_view_name": "LayoutView",
            "align_content": null,
            "align_items": null,
            "align_self": null,
            "border": null,
            "bottom": null,
            "display": null,
            "flex": null,
            "flex_flow": null,
            "grid_area": null,
            "grid_auto_columns": null,
            "grid_auto_flow": null,
            "grid_auto_rows": null,
            "grid_column": null,
            "grid_gap": null,
            "grid_row": null,
            "grid_template_areas": null,
            "grid_template_columns": null,
            "grid_template_rows": null,
            "height": null,
            "justify_content": null,
            "justify_items": null,
            "left": null,
            "margin": null,
            "max_height": null,
            "max_width": null,
            "min_height": null,
            "min_width": null,
            "object_fit": null,
            "object_position": null,
            "order": null,
            "overflow": null,
            "overflow_x": null,
            "overflow_y": null,
            "padding": null,
            "right": null,
            "top": null,
            "visibility": null,
            "width": null
          }
        },
        "3f17be1e688f475f8f4f544b2de0d14a": {
          "model_module": "@jupyter-widgets/base",
          "model_name": "LayoutModel",
          "model_module_version": "1.2.0",
          "state": {
            "_model_module": "@jupyter-widgets/base",
            "_model_module_version": "1.2.0",
            "_model_name": "LayoutModel",
            "_view_count": null,
            "_view_module": "@jupyter-widgets/base",
            "_view_module_version": "1.2.0",
            "_view_name": "LayoutView",
            "align_content": null,
            "align_items": null,
            "align_self": null,
            "border": null,
            "bottom": null,
            "display": null,
            "flex": null,
            "flex_flow": null,
            "grid_area": null,
            "grid_auto_columns": null,
            "grid_auto_flow": null,
            "grid_auto_rows": null,
            "grid_column": null,
            "grid_gap": null,
            "grid_row": null,
            "grid_template_areas": null,
            "grid_template_columns": null,
            "grid_template_rows": null,
            "height": null,
            "justify_content": null,
            "justify_items": null,
            "left": null,
            "margin": null,
            "max_height": null,
            "max_width": null,
            "min_height": null,
            "min_width": null,
            "object_fit": null,
            "object_position": null,
            "order": null,
            "overflow": null,
            "overflow_x": null,
            "overflow_y": null,
            "padding": null,
            "right": null,
            "top": null,
            "visibility": null,
            "width": null
          }
        },
        "3ee9f19ca4a741239921f6c805c31a77": {
          "model_module": "@jupyter-widgets/controls",
          "model_name": "DescriptionStyleModel",
          "model_module_version": "1.5.0",
          "state": {
            "_model_module": "@jupyter-widgets/controls",
            "_model_module_version": "1.5.0",
            "_model_name": "DescriptionStyleModel",
            "_view_count": null,
            "_view_module": "@jupyter-widgets/base",
            "_view_module_version": "1.2.0",
            "_view_name": "StyleView",
            "description_width": ""
          }
        },
        "467ac09e47e14d0e96f3cbd0643ff78c": {
          "model_module": "@jupyter-widgets/base",
          "model_name": "LayoutModel",
          "model_module_version": "1.2.0",
          "state": {
            "_model_module": "@jupyter-widgets/base",
            "_model_module_version": "1.2.0",
            "_model_name": "LayoutModel",
            "_view_count": null,
            "_view_module": "@jupyter-widgets/base",
            "_view_module_version": "1.2.0",
            "_view_name": "LayoutView",
            "align_content": null,
            "align_items": null,
            "align_self": null,
            "border": null,
            "bottom": null,
            "display": null,
            "flex": null,
            "flex_flow": null,
            "grid_area": null,
            "grid_auto_columns": null,
            "grid_auto_flow": null,
            "grid_auto_rows": null,
            "grid_column": null,
            "grid_gap": null,
            "grid_row": null,
            "grid_template_areas": null,
            "grid_template_columns": null,
            "grid_template_rows": null,
            "height": null,
            "justify_content": null,
            "justify_items": null,
            "left": null,
            "margin": null,
            "max_height": null,
            "max_width": null,
            "min_height": null,
            "min_width": null,
            "object_fit": null,
            "object_position": null,
            "order": null,
            "overflow": null,
            "overflow_x": null,
            "overflow_y": null,
            "padding": null,
            "right": null,
            "top": null,
            "visibility": null,
            "width": null
          }
        },
        "5b1002506d44472c8320c417e122bdff": {
          "model_module": "@jupyter-widgets/controls",
          "model_name": "VBoxModel",
          "model_module_version": "1.5.0",
          "state": {
            "_dom_classes": [
              "widget-interact"
            ],
            "_model_module": "@jupyter-widgets/controls",
            "_model_module_version": "1.5.0",
            "_model_name": "VBoxModel",
            "_view_count": null,
            "_view_module": "@jupyter-widgets/controls",
            "_view_module_version": "1.5.0",
            "_view_name": "VBoxView",
            "box_style": "",
            "children": [
              "IPY_MODEL_3f89fd4a6e9a49fc8e80853852fec802",
              "IPY_MODEL_8e579838750048528e496fb9115fa93d"
            ],
            "layout": "IPY_MODEL_63f1ca3b4129454fbfe8d991741ea5d5"
          }
        },
        "3f89fd4a6e9a49fc8e80853852fec802": {
          "model_module": "@jupyter-widgets/controls",
          "model_name": "DropdownModel",
          "model_module_version": "1.5.0",
          "state": {
            "_dom_classes": [],
            "_model_module": "@jupyter-widgets/controls",
            "_model_module_version": "1.5.0",
            "_model_name": "DropdownModel",
            "_options_labels": [
              "N",
              "P",
              "K",
              "temperature",
              "ph",
              "humidity",
              "rainfall"
            ],
            "_view_count": null,
            "_view_module": "@jupyter-widgets/controls",
            "_view_module_version": "1.5.0",
            "_view_name": "DropdownView",
            "description": "conditions",
            "description_tooltip": null,
            "disabled": false,
            "index": 0,
            "layout": "IPY_MODEL_c0f2427ce28f414fb8bcedfd706cfe14",
            "style": "IPY_MODEL_b2870459a36a4f7198110c31ab6873a0"
          }
        },
        "8e579838750048528e496fb9115fa93d": {
          "model_module": "@jupyter-widgets/output",
          "model_name": "OutputModel",
          "model_module_version": "1.0.0",
          "state": {
            "_dom_classes": [],
            "_model_module": "@jupyter-widgets/output",
            "_model_module_version": "1.0.0",
            "_model_name": "OutputModel",
            "_view_count": null,
            "_view_module": "@jupyter-widgets/output",
            "_view_module_version": "1.0.0",
            "_view_name": "OutputView",
            "layout": "IPY_MODEL_003bdc429c4a4071856ed1ee79b93e89",
            "msg_id": "",
            "outputs": [
              {
                "output_type": "stream",
                "name": "stdout",
                "text": [
                  "Average Value for N is 50.55\n",
                  "----------------------------------------------\n",
                  "Rice : 79.89\n",
                  "Black Grams : 40.02\n",
                  "Banana : 100.23\n",
                  "Jute : 78.40\n",
                  "Coconut : 21.98\n",
                  "Apple : 20.80\n",
                  "Papaya : 49.88\n",
                  "Muskmelon : 100.32\n",
                  "Grapes : 23.18\n",
                  "Watermelon : 99.42\n",
                  "Kidney Beans: 20.75\n",
                  "Mung Beans : 20.99\n",
                  "Oranges : 19.58\n",
                  "Chick Peas : 40.09\n",
                  "Lentils : 18.77\n",
                  "Cotton : 117.77\n",
                  "Maize : 77.76\n",
                  "Moth Beans : 21.44\n",
                  "Pigeon Peas : 20.73\n",
                  "Mango : 20.07\n",
                  "Pomegranate : 18.87\n",
                  "Coffee : 101.20\n"
                ]
              }
            ]
          }
        },
        "63f1ca3b4129454fbfe8d991741ea5d5": {
          "model_module": "@jupyter-widgets/base",
          "model_name": "LayoutModel",
          "model_module_version": "1.2.0",
          "state": {
            "_model_module": "@jupyter-widgets/base",
            "_model_module_version": "1.2.0",
            "_model_name": "LayoutModel",
            "_view_count": null,
            "_view_module": "@jupyter-widgets/base",
            "_view_module_version": "1.2.0",
            "_view_name": "LayoutView",
            "align_content": null,
            "align_items": null,
            "align_self": null,
            "border": null,
            "bottom": null,
            "display": null,
            "flex": null,
            "flex_flow": null,
            "grid_area": null,
            "grid_auto_columns": null,
            "grid_auto_flow": null,
            "grid_auto_rows": null,
            "grid_column": null,
            "grid_gap": null,
            "grid_row": null,
            "grid_template_areas": null,
            "grid_template_columns": null,
            "grid_template_rows": null,
            "height": null,
            "justify_content": null,
            "justify_items": null,
            "left": null,
            "margin": null,
            "max_height": null,
            "max_width": null,
            "min_height": null,
            "min_width": null,
            "object_fit": null,
            "object_position": null,
            "order": null,
            "overflow": null,
            "overflow_x": null,
            "overflow_y": null,
            "padding": null,
            "right": null,
            "top": null,
            "visibility": null,
            "width": null
          }
        },
        "c0f2427ce28f414fb8bcedfd706cfe14": {
          "model_module": "@jupyter-widgets/base",
          "model_name": "LayoutModel",
          "model_module_version": "1.2.0",
          "state": {
            "_model_module": "@jupyter-widgets/base",
            "_model_module_version": "1.2.0",
            "_model_name": "LayoutModel",
            "_view_count": null,
            "_view_module": "@jupyter-widgets/base",
            "_view_module_version": "1.2.0",
            "_view_name": "LayoutView",
            "align_content": null,
            "align_items": null,
            "align_self": null,
            "border": null,
            "bottom": null,
            "display": null,
            "flex": null,
            "flex_flow": null,
            "grid_area": null,
            "grid_auto_columns": null,
            "grid_auto_flow": null,
            "grid_auto_rows": null,
            "grid_column": null,
            "grid_gap": null,
            "grid_row": null,
            "grid_template_areas": null,
            "grid_template_columns": null,
            "grid_template_rows": null,
            "height": null,
            "justify_content": null,
            "justify_items": null,
            "left": null,
            "margin": null,
            "max_height": null,
            "max_width": null,
            "min_height": null,
            "min_width": null,
            "object_fit": null,
            "object_position": null,
            "order": null,
            "overflow": null,
            "overflow_x": null,
            "overflow_y": null,
            "padding": null,
            "right": null,
            "top": null,
            "visibility": null,
            "width": null
          }
        },
        "b2870459a36a4f7198110c31ab6873a0": {
          "model_module": "@jupyter-widgets/controls",
          "model_name": "DescriptionStyleModel",
          "model_module_version": "1.5.0",
          "state": {
            "_model_module": "@jupyter-widgets/controls",
            "_model_module_version": "1.5.0",
            "_model_name": "DescriptionStyleModel",
            "_view_count": null,
            "_view_module": "@jupyter-widgets/base",
            "_view_module_version": "1.2.0",
            "_view_name": "StyleView",
            "description_width": ""
          }
        },
        "003bdc429c4a4071856ed1ee79b93e89": {
          "model_module": "@jupyter-widgets/base",
          "model_name": "LayoutModel",
          "model_module_version": "1.2.0",
          "state": {
            "_model_module": "@jupyter-widgets/base",
            "_model_module_version": "1.2.0",
            "_model_name": "LayoutModel",
            "_view_count": null,
            "_view_module": "@jupyter-widgets/base",
            "_view_module_version": "1.2.0",
            "_view_name": "LayoutView",
            "align_content": null,
            "align_items": null,
            "align_self": null,
            "border": null,
            "bottom": null,
            "display": null,
            "flex": null,
            "flex_flow": null,
            "grid_area": null,
            "grid_auto_columns": null,
            "grid_auto_flow": null,
            "grid_auto_rows": null,
            "grid_column": null,
            "grid_gap": null,
            "grid_row": null,
            "grid_template_areas": null,
            "grid_template_columns": null,
            "grid_template_rows": null,
            "height": null,
            "justify_content": null,
            "justify_items": null,
            "left": null,
            "margin": null,
            "max_height": null,
            "max_width": null,
            "min_height": null,
            "min_width": null,
            "object_fit": null,
            "object_position": null,
            "order": null,
            "overflow": null,
            "overflow_x": null,
            "overflow_y": null,
            "padding": null,
            "right": null,
            "top": null,
            "visibility": null,
            "width": null
          }
        },
        "3bd6b32b298948efac70aec7a5da3300": {
          "model_module": "@jupyter-widgets/controls",
          "model_name": "VBoxModel",
          "model_module_version": "1.5.0",
          "state": {
            "_dom_classes": [
              "widget-interact"
            ],
            "_model_module": "@jupyter-widgets/controls",
            "_model_module_version": "1.5.0",
            "_model_name": "VBoxModel",
            "_view_count": null,
            "_view_module": "@jupyter-widgets/controls",
            "_view_module_version": "1.5.0",
            "_view_name": "VBoxView",
            "box_style": "",
            "children": [
              "IPY_MODEL_c45d5e32284347dda0b6d3070e1b3abd",
              "IPY_MODEL_935db2c8330d4d7089941b4aa16b8255"
            ],
            "layout": "IPY_MODEL_6441876800a8456d8023f8a983d58768"
          }
        },
        "c45d5e32284347dda0b6d3070e1b3abd": {
          "model_module": "@jupyter-widgets/controls",
          "model_name": "DropdownModel",
          "model_module_version": "1.5.0",
          "state": {
            "_dom_classes": [],
            "_model_module": "@jupyter-widgets/controls",
            "_model_module_version": "1.5.0",
            "_model_name": "DropdownModel",
            "_options_labels": [
              "N",
              "P",
              "K",
              "temperature",
              "ph",
              "humidity",
              "rainfall"
            ],
            "_view_count": null,
            "_view_module": "@jupyter-widgets/controls",
            "_view_module_version": "1.5.0",
            "_view_name": "DropdownView",
            "description": "conditions",
            "description_tooltip": null,
            "disabled": false,
            "index": 0,
            "layout": "IPY_MODEL_5c5253f696ef490cbdffd2c4030bcd02",
            "style": "IPY_MODEL_db00d3c71cdd44c8983e2f897a7f3beb"
          }
        },
        "935db2c8330d4d7089941b4aa16b8255": {
          "model_module": "@jupyter-widgets/output",
          "model_name": "OutputModel",
          "model_module_version": "1.0.0",
          "state": {
            "_dom_classes": [],
            "_model_module": "@jupyter-widgets/output",
            "_model_module_version": "1.0.0",
            "_model_name": "OutputModel",
            "_view_count": null,
            "_view_module": "@jupyter-widgets/output",
            "_view_module_version": "1.0.0",
            "_view_name": "OutputView",
            "layout": "IPY_MODEL_803bd6f8184e47dc963af4eb62e78f36",
            "msg_id": "",
            "outputs": [
              {
                "output_type": "stream",
                "name": "stdout",
                "text": [
                  "Crops which require greater than average N \n",
                  "\n",
                  "['rice' 'maize' 'chickpea' 'blackgram' 'banana' 'watermelon' 'muskmelon'\n",
                  " 'papaya' 'cotton' 'jute' 'coffee']\n",
                  "----------------------------------------------\n",
                  "Crops which require less than average N \n",
                  "\n",
                  "['chickpea' 'kidneybeans' 'pigeonpeas' 'mothbeans' 'mungbean' 'blackgram'\n",
                  " 'lentil' 'pomegranate' 'mango' 'grapes' 'apple' 'orange' 'papaya'\n",
                  " 'coconut']\n"
                ]
              }
            ]
          }
        },
        "6441876800a8456d8023f8a983d58768": {
          "model_module": "@jupyter-widgets/base",
          "model_name": "LayoutModel",
          "model_module_version": "1.2.0",
          "state": {
            "_model_module": "@jupyter-widgets/base",
            "_model_module_version": "1.2.0",
            "_model_name": "LayoutModel",
            "_view_count": null,
            "_view_module": "@jupyter-widgets/base",
            "_view_module_version": "1.2.0",
            "_view_name": "LayoutView",
            "align_content": null,
            "align_items": null,
            "align_self": null,
            "border": null,
            "bottom": null,
            "display": null,
            "flex": null,
            "flex_flow": null,
            "grid_area": null,
            "grid_auto_columns": null,
            "grid_auto_flow": null,
            "grid_auto_rows": null,
            "grid_column": null,
            "grid_gap": null,
            "grid_row": null,
            "grid_template_areas": null,
            "grid_template_columns": null,
            "grid_template_rows": null,
            "height": null,
            "justify_content": null,
            "justify_items": null,
            "left": null,
            "margin": null,
            "max_height": null,
            "max_width": null,
            "min_height": null,
            "min_width": null,
            "object_fit": null,
            "object_position": null,
            "order": null,
            "overflow": null,
            "overflow_x": null,
            "overflow_y": null,
            "padding": null,
            "right": null,
            "top": null,
            "visibility": null,
            "width": null
          }
        },
        "5c5253f696ef490cbdffd2c4030bcd02": {
          "model_module": "@jupyter-widgets/base",
          "model_name": "LayoutModel",
          "model_module_version": "1.2.0",
          "state": {
            "_model_module": "@jupyter-widgets/base",
            "_model_module_version": "1.2.0",
            "_model_name": "LayoutModel",
            "_view_count": null,
            "_view_module": "@jupyter-widgets/base",
            "_view_module_version": "1.2.0",
            "_view_name": "LayoutView",
            "align_content": null,
            "align_items": null,
            "align_self": null,
            "border": null,
            "bottom": null,
            "display": null,
            "flex": null,
            "flex_flow": null,
            "grid_area": null,
            "grid_auto_columns": null,
            "grid_auto_flow": null,
            "grid_auto_rows": null,
            "grid_column": null,
            "grid_gap": null,
            "grid_row": null,
            "grid_template_areas": null,
            "grid_template_columns": null,
            "grid_template_rows": null,
            "height": null,
            "justify_content": null,
            "justify_items": null,
            "left": null,
            "margin": null,
            "max_height": null,
            "max_width": null,
            "min_height": null,
            "min_width": null,
            "object_fit": null,
            "object_position": null,
            "order": null,
            "overflow": null,
            "overflow_x": null,
            "overflow_y": null,
            "padding": null,
            "right": null,
            "top": null,
            "visibility": null,
            "width": null
          }
        },
        "db00d3c71cdd44c8983e2f897a7f3beb": {
          "model_module": "@jupyter-widgets/controls",
          "model_name": "DescriptionStyleModel",
          "model_module_version": "1.5.0",
          "state": {
            "_model_module": "@jupyter-widgets/controls",
            "_model_module_version": "1.5.0",
            "_model_name": "DescriptionStyleModel",
            "_view_count": null,
            "_view_module": "@jupyter-widgets/base",
            "_view_module_version": "1.2.0",
            "_view_name": "StyleView",
            "description_width": ""
          }
        },
        "803bd6f8184e47dc963af4eb62e78f36": {
          "model_module": "@jupyter-widgets/base",
          "model_name": "LayoutModel",
          "model_module_version": "1.2.0",
          "state": {
            "_model_module": "@jupyter-widgets/base",
            "_model_module_version": "1.2.0",
            "_model_name": "LayoutModel",
            "_view_count": null,
            "_view_module": "@jupyter-widgets/base",
            "_view_module_version": "1.2.0",
            "_view_name": "LayoutView",
            "align_content": null,
            "align_items": null,
            "align_self": null,
            "border": null,
            "bottom": null,
            "display": null,
            "flex": null,
            "flex_flow": null,
            "grid_area": null,
            "grid_auto_columns": null,
            "grid_auto_flow": null,
            "grid_auto_rows": null,
            "grid_column": null,
            "grid_gap": null,
            "grid_row": null,
            "grid_template_areas": null,
            "grid_template_columns": null,
            "grid_template_rows": null,
            "height": null,
            "justify_content": null,
            "justify_items": null,
            "left": null,
            "margin": null,
            "max_height": null,
            "max_width": null,
            "min_height": null,
            "min_width": null,
            "object_fit": null,
            "object_position": null,
            "order": null,
            "overflow": null,
            "overflow_x": null,
            "overflow_y": null,
            "padding": null,
            "right": null,
            "top": null,
            "visibility": null,
            "width": null
          }
        }
      }
    }
  },
  "cells": [
    {
      "cell_type": "markdown",
      "metadata": {
        "id": "view-in-github",
        "colab_type": "text"
      },
      "source": [
        "<a href=\"https://colab.research.google.com/github/deep3040/TRINIT_ENEMIESOFSYNTAXX_ML/blob/main/trinit_model1.ipynb\" target=\"_parent\"><img src=\"https://colab.research.google.com/assets/colab-badge.svg\" alt=\"Open In Colab\"/></a>"
      ]
    },
    {
      "cell_type": "code",
      "execution_count": null,
      "metadata": {
        "id": "gzcwGAVR5Mx3"
      },
      "outputs": [],
      "source": [
        "import numpy as np\n",
        "import pandas as pd\n",
        "import matplotlib.pyplot as plt\n",
        "import seaborn as sns\n",
        "plt.style.use('fivethirtyeight')\n",
        "import ipywidgets\n",
        "from ipywidgets import interact\n",
        "import pylab\n",
        "from sklearn import preprocessing\n",
        "from sklearn.tree import DecisionTreeClassifier\n",
        "from sklearn.linear_model import LinearRegression"
      ]
    },
    {
      "cell_type": "code",
      "source": [
        "data = pd.read_csv(\"/content/Crop_recommendation.csv\")"
      ],
      "metadata": {
        "id": "k6VpXXYD6gPW"
      },
      "execution_count": null,
      "outputs": []
    },
    {
      "cell_type": "code",
      "source": [
        "data.head()"
      ],
      "metadata": {
        "colab": {
          "base_uri": "https://localhost:8080/",
          "height": 206
        },
        "id": "e1sqnDIkkRv3",
        "outputId": "b1600a46-3a60-4519-b167-16ff0fe66ac8"
      },
      "execution_count": null,
      "outputs": [
        {
          "output_type": "execute_result",
          "data": {
            "text/plain": [
              "    N   P   K  temperature   humidity        ph    rainfall label\n",
              "0  90  42  43    20.879744  82.002744  6.502985  202.935536  rice\n",
              "1  85  58  41    21.770462  80.319644  7.038096  226.655537  rice\n",
              "2  60  55  44    23.004459  82.320763  7.840207  263.964248  rice\n",
              "3  74  35  40    26.491096  80.158363  6.980401  242.864034  rice\n",
              "4  78  42  42    20.130175  81.604873  7.628473  262.717340  rice"
            ],
            "text/html": [
              "\n",
              "  <div id=\"df-01074dc6-eb88-40aa-8da7-5a92b643250f\">\n",
              "    <div class=\"colab-df-container\">\n",
              "      <div>\n",
              "<style scoped>\n",
              "    .dataframe tbody tr th:only-of-type {\n",
              "        vertical-align: middle;\n",
              "    }\n",
              "\n",
              "    .dataframe tbody tr th {\n",
              "        vertical-align: top;\n",
              "    }\n",
              "\n",
              "    .dataframe thead th {\n",
              "        text-align: right;\n",
              "    }\n",
              "</style>\n",
              "<table border=\"1\" class=\"dataframe\">\n",
              "  <thead>\n",
              "    <tr style=\"text-align: right;\">\n",
              "      <th></th>\n",
              "      <th>N</th>\n",
              "      <th>P</th>\n",
              "      <th>K</th>\n",
              "      <th>temperature</th>\n",
              "      <th>humidity</th>\n",
              "      <th>ph</th>\n",
              "      <th>rainfall</th>\n",
              "      <th>label</th>\n",
              "    </tr>\n",
              "  </thead>\n",
              "  <tbody>\n",
              "    <tr>\n",
              "      <th>0</th>\n",
              "      <td>90</td>\n",
              "      <td>42</td>\n",
              "      <td>43</td>\n",
              "      <td>20.879744</td>\n",
              "      <td>82.002744</td>\n",
              "      <td>6.502985</td>\n",
              "      <td>202.935536</td>\n",
              "      <td>rice</td>\n",
              "    </tr>\n",
              "    <tr>\n",
              "      <th>1</th>\n",
              "      <td>85</td>\n",
              "      <td>58</td>\n",
              "      <td>41</td>\n",
              "      <td>21.770462</td>\n",
              "      <td>80.319644</td>\n",
              "      <td>7.038096</td>\n",
              "      <td>226.655537</td>\n",
              "      <td>rice</td>\n",
              "    </tr>\n",
              "    <tr>\n",
              "      <th>2</th>\n",
              "      <td>60</td>\n",
              "      <td>55</td>\n",
              "      <td>44</td>\n",
              "      <td>23.004459</td>\n",
              "      <td>82.320763</td>\n",
              "      <td>7.840207</td>\n",
              "      <td>263.964248</td>\n",
              "      <td>rice</td>\n",
              "    </tr>\n",
              "    <tr>\n",
              "      <th>3</th>\n",
              "      <td>74</td>\n",
              "      <td>35</td>\n",
              "      <td>40</td>\n",
              "      <td>26.491096</td>\n",
              "      <td>80.158363</td>\n",
              "      <td>6.980401</td>\n",
              "      <td>242.864034</td>\n",
              "      <td>rice</td>\n",
              "    </tr>\n",
              "    <tr>\n",
              "      <th>4</th>\n",
              "      <td>78</td>\n",
              "      <td>42</td>\n",
              "      <td>42</td>\n",
              "      <td>20.130175</td>\n",
              "      <td>81.604873</td>\n",
              "      <td>7.628473</td>\n",
              "      <td>262.717340</td>\n",
              "      <td>rice</td>\n",
              "    </tr>\n",
              "  </tbody>\n",
              "</table>\n",
              "</div>\n",
              "      <button class=\"colab-df-convert\" onclick=\"convertToInteractive('df-01074dc6-eb88-40aa-8da7-5a92b643250f')\"\n",
              "              title=\"Convert this dataframe to an interactive table.\"\n",
              "              style=\"display:none;\">\n",
              "        \n",
              "  <svg xmlns=\"http://www.w3.org/2000/svg\" height=\"24px\"viewBox=\"0 0 24 24\"\n",
              "       width=\"24px\">\n",
              "    <path d=\"M0 0h24v24H0V0z\" fill=\"none\"/>\n",
              "    <path d=\"M18.56 5.44l.94 2.06.94-2.06 2.06-.94-2.06-.94-.94-2.06-.94 2.06-2.06.94zm-11 1L8.5 8.5l.94-2.06 2.06-.94-2.06-.94L8.5 2.5l-.94 2.06-2.06.94zm10 10l.94 2.06.94-2.06 2.06-.94-2.06-.94-.94-2.06-.94 2.06-2.06.94z\"/><path d=\"M17.41 7.96l-1.37-1.37c-.4-.4-.92-.59-1.43-.59-.52 0-1.04.2-1.43.59L10.3 9.45l-7.72 7.72c-.78.78-.78 2.05 0 2.83L4 21.41c.39.39.9.59 1.41.59.51 0 1.02-.2 1.41-.59l7.78-7.78 2.81-2.81c.8-.78.8-2.07 0-2.86zM5.41 20L4 18.59l7.72-7.72 1.47 1.35L5.41 20z\"/>\n",
              "  </svg>\n",
              "      </button>\n",
              "      \n",
              "  <style>\n",
              "    .colab-df-container {\n",
              "      display:flex;\n",
              "      flex-wrap:wrap;\n",
              "      gap: 12px;\n",
              "    }\n",
              "\n",
              "    .colab-df-convert {\n",
              "      background-color: #E8F0FE;\n",
              "      border: none;\n",
              "      border-radius: 50%;\n",
              "      cursor: pointer;\n",
              "      display: none;\n",
              "      fill: #1967D2;\n",
              "      height: 32px;\n",
              "      padding: 0 0 0 0;\n",
              "      width: 32px;\n",
              "    }\n",
              "\n",
              "    .colab-df-convert:hover {\n",
              "      background-color: #E2EBFA;\n",
              "      box-shadow: 0px 1px 2px rgba(60, 64, 67, 0.3), 0px 1px 3px 1px rgba(60, 64, 67, 0.15);\n",
              "      fill: #174EA6;\n",
              "    }\n",
              "\n",
              "    [theme=dark] .colab-df-convert {\n",
              "      background-color: #3B4455;\n",
              "      fill: #D2E3FC;\n",
              "    }\n",
              "\n",
              "    [theme=dark] .colab-df-convert:hover {\n",
              "      background-color: #434B5C;\n",
              "      box-shadow: 0px 1px 3px 1px rgba(0, 0, 0, 0.15);\n",
              "      filter: drop-shadow(0px 1px 2px rgba(0, 0, 0, 0.3));\n",
              "      fill: #FFFFFF;\n",
              "    }\n",
              "  </style>\n",
              "\n",
              "      <script>\n",
              "        const buttonEl =\n",
              "          document.querySelector('#df-01074dc6-eb88-40aa-8da7-5a92b643250f button.colab-df-convert');\n",
              "        buttonEl.style.display =\n",
              "          google.colab.kernel.accessAllowed ? 'block' : 'none';\n",
              "\n",
              "        async function convertToInteractive(key) {\n",
              "          const element = document.querySelector('#df-01074dc6-eb88-40aa-8da7-5a92b643250f');\n",
              "          const dataTable =\n",
              "            await google.colab.kernel.invokeFunction('convertToInteractive',\n",
              "                                                     [key], {});\n",
              "          if (!dataTable) return;\n",
              "\n",
              "          const docLinkHtml = 'Like what you see? Visit the ' +\n",
              "            '<a target=\"_blank\" href=https://colab.research.google.com/notebooks/data_table.ipynb>data table notebook</a>'\n",
              "            + ' to learn more about interactive tables.';\n",
              "          element.innerHTML = '';\n",
              "          dataTable['output_type'] = 'display_data';\n",
              "          await google.colab.output.renderOutput(dataTable, element);\n",
              "          const docLink = document.createElement('div');\n",
              "          docLink.innerHTML = docLinkHtml;\n",
              "          element.appendChild(docLink);\n",
              "        }\n",
              "      </script>\n",
              "    </div>\n",
              "  </div>\n",
              "  "
            ]
          },
          "metadata": {},
          "execution_count": 31
        }
      ]
    },
    {
      "cell_type": "code",
      "source": [
        "data.isnull().sum()"
      ],
      "metadata": {
        "colab": {
          "base_uri": "https://localhost:8080/"
        },
        "id": "rF8r9sDkkaea",
        "outputId": "9a93ca0d-c854-447c-db3b-d098dc60dc00"
      },
      "execution_count": null,
      "outputs": [
        {
          "output_type": "execute_result",
          "data": {
            "text/plain": [
              "N              0\n",
              "P              0\n",
              "K              0\n",
              "temperature    0\n",
              "humidity       0\n",
              "ph             0\n",
              "rainfall       0\n",
              "label          0\n",
              "dtype: int64"
            ]
          },
          "metadata": {},
          "execution_count": 32
        }
      ]
    },
    {
      "cell_type": "code",
      "source": [
        "data['label'].value_counts()"
      ],
      "metadata": {
        "colab": {
          "base_uri": "https://localhost:8080/"
        },
        "id": "iOc1bSD9keM2",
        "outputId": "26c424bf-7d2c-4393-b0f4-b5abd02c5448"
      },
      "execution_count": null,
      "outputs": [
        {
          "output_type": "execute_result",
          "data": {
            "text/plain": [
              "rice           100\n",
              "maize          100\n",
              "jute           100\n",
              "cotton         100\n",
              "coconut        100\n",
              "papaya         100\n",
              "orange         100\n",
              "apple          100\n",
              "muskmelon      100\n",
              "watermelon     100\n",
              "grapes         100\n",
              "mango          100\n",
              "banana         100\n",
              "pomegranate    100\n",
              "lentil         100\n",
              "blackgram      100\n",
              "mungbean       100\n",
              "mothbeans      100\n",
              "pigeonpeas     100\n",
              "kidneybeans    100\n",
              "chickpea       100\n",
              "coffee         100\n",
              "Name: label, dtype: int64"
            ]
          },
          "metadata": {},
          "execution_count": 33
        }
      ]
    },
    {
      "cell_type": "code",
      "source": [
        "# lets check the Summary Statistics for each of the Crops\n",
        "\n",
        "@interact\n",
        "def summary(crops = list(data['label'].value_counts().index)):\n",
        "    x = data[data['label'] == crops]\n",
        "    print(\"---------------------------------------------\")\n",
        "    print(\"Statistics for Nitrogen\")\n",
        "    print(\"Minimum Nitrigen required :\", x['N'].min())\n",
        "    print(\"Average Nitrogen required :\", x['N'].mean())\n",
        "    print(\"Maximum Nitrogen required :\", x['N'].max()) \n",
        "    print(\"---------------------------------------------\")\n",
        "    print(\"Statistics for Phosphorous\")\n",
        "    print(\"Minimum Phosphorous required :\", x['P'].min())\n",
        "    print(\"Average Phosphorous required :\", x['P'].mean())\n",
        "    print(\"Maximum Phosphorous required :\", x['P'].max()) \n",
        "    print(\"---------------------------------------------\")\n",
        "    print(\"Statistics for Potassium\")\n",
        "    print(\"Minimum Potassium required :\", x['K'].min())\n",
        "    print(\"Average Potassium required :\", x['K'].mean())\n",
        "    print(\"Maximum Potassium required :\", x['K'].max()) \n",
        "    print(\"---------------------------------------------\")\n",
        "    print(\"Statistics for Temperature\")\n",
        "    print(\"Minimum Temperature required : {0:.2f}\".format(x['temperature'].min()))\n",
        "    print(\"Average Temperature required : {0:.2f}\".format(x['temperature'].mean()))\n",
        "    print(\"Maximum Temperature required : {0:.2f}\".format(x['temperature'].max()))\n",
        "    print(\"---------------------------------------------\")\n",
        "    print(\"Statistics for Humidity\")\n",
        "    print(\"Minimum Humidity required : {0:.2f}\".format(x['humidity'].min()))\n",
        "    print(\"Average Humidity required : {0:.2f}\".format(x['humidity'].mean()))\n",
        "    print(\"Maximum Humidity required : {0:.2f}\".format(x['humidity'].max()))\n",
        "    print(\"---------------------------------------------\")\n",
        "    print(\"Statistics for PH\")\n",
        "    print(\"Minimum PH required : {0:.2f}\".format(x['ph'].min()))\n",
        "    print(\"Average PH required : {0:.2f}\".format(x['ph'].mean()))\n",
        "    print(\"Maximum PH required : {0:.2f}\".format(x['ph'].max()))\n",
        "    print(\"---------------------------------------------\")\n",
        "    print(\"Statistics for Rainfall\")\n",
        "    print(\"Minimum Rainfall required : {0:.2f}\".format(x['rainfall'].min()))\n",
        "    print(\"Average Rainfall required : {0:.2f}\".format(x['rainfall'].mean()))\n",
        "    print(\"Maximum Rainfall required : {0:.2f}\".format(x['rainfall'].max()))"
      ],
      "metadata": {
        "colab": {
          "base_uri": "https://localhost:8080/",
          "height": 656,
          "referenced_widgets": [
            "2d59c7aadb4b41ef96602195d6b739cb",
            "419ccade5b7c4878a343c35483658061",
            "db8a67b0f96841e78781436c4fd0cdc4",
            "f1e4f69aa5694a93816ac4dba19fecfc",
            "3f17be1e688f475f8f4f544b2de0d14a",
            "3ee9f19ca4a741239921f6c805c31a77",
            "467ac09e47e14d0e96f3cbd0643ff78c"
          ]
        },
        "id": "XUuIklVRmCcW",
        "outputId": "148ec3f1-44ef-418a-ed78-a4ae99880611"
      },
      "execution_count": null,
      "outputs": [
        {
          "output_type": "display_data",
          "data": {
            "text/plain": [
              "interactive(children=(Dropdown(description='crops', options=('rice', 'maize', 'jute', 'cotton', 'coconut', 'pa…"
            ],
            "application/vnd.jupyter.widget-view+json": {
              "version_major": 2,
              "version_minor": 0,
              "model_id": "2d59c7aadb4b41ef96602195d6b739cb"
            }
          },
          "metadata": {}
        }
      ]
    },
    {
      "cell_type": "code",
      "source": [
        "## Lets compare the Average Requirement for each crops with average conditions\n",
        "\n",
        "@interact\n",
        "def compare(conditions = ['N','P','K','temperature','ph','humidity','rainfall']):\n",
        "    print(\"Average Value for\", conditions,\"is {0:.2f}\".format(data[conditions].mean()))\n",
        "    print(\"----------------------------------------------\")\n",
        "    print(\"Rice : {0:.2f}\".format(data[(data['label'] == 'rice')][conditions].mean()))\n",
        "    print(\"Black Grams : {0:.2f}\".format(data[data['label'] == 'blackgram'][conditions].mean()))\n",
        "    print(\"Banana : {0:.2f}\".format(data[(data['label'] == 'banana')][conditions].mean()))\n",
        "    print(\"Jute : {0:.2f}\".format(data[data['label'] == 'jute'][conditions].mean()))\n",
        "    print(\"Coconut : {0:.2f}\".format(data[(data['label'] == 'coconut')][conditions].mean()))\n",
        "    print(\"Apple : {0:.2f}\".format(data[data['label'] == 'apple'][conditions].mean()))\n",
        "    print(\"Papaya : {0:.2f}\".format(data[(data['label'] == 'papaya')][conditions].mean()))\n",
        "    print(\"Muskmelon : {0:.2f}\".format(data[data['label'] == 'muskmelon'][conditions].mean()))\n",
        "    print(\"Grapes : {0:.2f}\".format(data[(data['label'] == 'grapes')][conditions].mean()))\n",
        "    print(\"Watermelon : {0:.2f}\".format(data[data['label'] == 'watermelon'][conditions].mean()))\n",
        "    print(\"Kidney Beans: {0:.2f}\".format(data[(data['label'] == 'kidneybeans')][conditions].mean()))\n",
        "    print(\"Mung Beans : {0:.2f}\".format(data[data['label'] == 'mungbean'][conditions].mean()))\n",
        "    print(\"Oranges : {0:.2f}\".format(data[(data['label'] == 'orange')][conditions].mean()))\n",
        "    print(\"Chick Peas : {0:.2f}\".format(data[data['label'] == 'chickpea'][conditions].mean()))\n",
        "    print(\"Lentils : {0:.2f}\".format(data[(data['label'] == 'lentil')][conditions].mean()))\n",
        "    print(\"Cotton : {0:.2f}\".format(data[data['label'] == 'cotton'][conditions].mean()))\n",
        "    print(\"Maize : {0:.2f}\".format(data[(data['label'] == 'maize')][conditions].mean()))\n",
        "    print(\"Moth Beans : {0:.2f}\".format(data[data['label'] == 'mothbeans'][conditions].mean()))\n",
        "    print(\"Pigeon Peas : {0:.2f}\".format(data[(data['label'] == 'pigeonpeas')][conditions].mean()))\n",
        "    print(\"Mango : {0:.2f}\".format(data[data['label'] == 'mango'][conditions].mean()))\n",
        "    print(\"Pomegranate : {0:.2f}\".format(data[(data['label'] == 'pomegranate')][conditions].mean()))\n",
        "    print(\"Coffee : {0:.2f}\".format(data[data['label'] == 'coffee'][conditions].mean()))"
      ],
      "metadata": {
        "colab": {
          "base_uri": "https://localhost:8080/",
          "height": 465,
          "referenced_widgets": [
            "5b1002506d44472c8320c417e122bdff",
            "3f89fd4a6e9a49fc8e80853852fec802",
            "8e579838750048528e496fb9115fa93d",
            "63f1ca3b4129454fbfe8d991741ea5d5",
            "c0f2427ce28f414fb8bcedfd706cfe14",
            "b2870459a36a4f7198110c31ab6873a0",
            "003bdc429c4a4071856ed1ee79b93e89"
          ]
        },
        "id": "s6334wIhlyhv",
        "outputId": "ba79e660-ec76-44fd-b120-b5ed7842bd45"
      },
      "execution_count": null,
      "outputs": [
        {
          "output_type": "display_data",
          "data": {
            "text/plain": [
              "interactive(children=(Dropdown(description='conditions', options=('N', 'P', 'K', 'temperature', 'ph', 'humidit…"
            ],
            "application/vnd.jupyter.widget-view+json": {
              "version_major": 2,
              "version_minor": 0,
              "model_id": "5b1002506d44472c8320c417e122bdff"
            }
          },
          "metadata": {}
        }
      ]
    },
    {
      "cell_type": "code",
      "source": [
        "# lets make this funtion more Intuitive\n",
        "\n",
        "@interact\n",
        "def compare(conditions = ['N','P','K','temperature','ph','humidity','rainfall']):\n",
        "    print(\"Crops which require greater than average\", conditions,'\\n')\n",
        "    print(data[data[conditions] > data[conditions].mean()]['label'].unique())\n",
        "    print(\"----------------------------------------------\")\n",
        "    print(\"Crops which require less than average\", conditions,'\\n')\n",
        "    print(data[data[conditions] <= data[conditions].mean()]['label'].unique())"
      ],
      "metadata": {
        "colab": {
          "base_uri": "https://localhost:8080/",
          "height": 223,
          "referenced_widgets": [
            "3bd6b32b298948efac70aec7a5da3300",
            "c45d5e32284347dda0b6d3070e1b3abd",
            "935db2c8330d4d7089941b4aa16b8255",
            "6441876800a8456d8023f8a983d58768",
            "5c5253f696ef490cbdffd2c4030bcd02",
            "db00d3c71cdd44c8983e2f897a7f3beb",
            "803bd6f8184e47dc963af4eb62e78f36"
          ]
        },
        "id": "bjvD6oA3mEPE",
        "outputId": "ce13344d-ca6a-4476-9e53-68ae29c57138"
      },
      "execution_count": null,
      "outputs": [
        {
          "output_type": "display_data",
          "data": {
            "text/plain": [
              "interactive(children=(Dropdown(description='conditions', options=('N', 'P', 'K', 'temperature', 'ph', 'humidit…"
            ],
            "application/vnd.jupyter.widget-view+json": {
              "version_major": 2,
              "version_minor": 0,
              "model_id": "3bd6b32b298948efac70aec7a5da3300"
            }
          },
          "metadata": {}
        }
      ]
    },
    {
      "cell_type": "code",
      "source": [
        "### Lets check the distribution of Agricultural Conditions\n",
        "\n",
        "plt.rcParams['figure.figsize'] = (15, 7)\n",
        "\n",
        "plt.subplot(2, 4, 1)\n",
        "sns.distplot(data['N'], color = 'lightgrey')\n",
        "plt.xlabel('Ratio of Nitrogen', fontsize = 12)\n",
        "plt.grid()\n",
        "\n",
        "plt.subplot(2, 4, 2)\n",
        "sns.distplot(data['P'], color = 'skyblue')\n",
        "plt.xlabel('Ratio of Phosphorous', fontsize = 12)\n",
        "plt.grid()\n",
        "\n",
        "plt.subplot(2, 4, 3)\n",
        "sns.distplot(data['K'], color ='darkblue')\n",
        "plt.xlabel('Ratio of Potassium', fontsize = 12)\n",
        "plt.grid()\n",
        "\n",
        "plt.subplot(2, 4, 4)\n",
        "sns.distplot(data['temperature'], color = 'black')\n",
        "plt.xlabel('Temperature', fontsize = 12)\n",
        "plt.grid()\n",
        "\n",
        "plt.subplot(2, 4, 5)\n",
        "sns.distplot(data['rainfall'], color = 'grey')\n",
        "plt.xlabel('Rainfall', fontsize = 12)\n",
        "plt.grid()\n",
        "\n",
        "plt.subplot(2, 4, 6)\n",
        "sns.distplot(data['humidity'], color = 'lightgreen')\n",
        "plt.xlabel('Humidity', fontsize = 12)\n",
        "plt.grid()\n",
        "\n",
        "plt.subplot(2, 4, 7)\n",
        "sns.distplot(data['ph'], color = 'darkgreen')\n",
        "plt.xlabel('pH Level', fontsize = 12)\n",
        "plt.grid()\n",
        "\n",
        "plt.suptitle('Distribution for Agricultural Conditions', fontsize = 20)\n",
        "plt.show()"
      ],
      "metadata": {
        "colab": {
          "base_uri": "https://localhost:8080/",
          "height": 524
        },
        "id": "tOHuqW_7nZpb",
        "outputId": "31992908-9113-4076-c382-cb3bca53ae66"
      },
      "execution_count": null,
      "outputs": [
        {
          "output_type": "display_data",
          "data": {
            "text/plain": [
              "<Figure size 1080x504 with 7 Axes>"
            ],
            "image/png": "[encoded data removed]"
          },
          "metadata": {}
        }
      ]
    },
    {
      "cell_type": "code",
      "source": [
        "## Lets find out some Interesting Facts\n",
        "\n",
        "print(\"Some Interesting Patterns\")\n",
        "print(\"---------------------------------\")\n",
        "print(\"Crops which requires very High Ratio of Nitrogen Content in Soil:\", data[data['N'] > 120]['label'].unique())\n",
        "print(\"Crops which requires very High Ratio of Phosphorous Content in Soil:\", data[data['P'] > 100]['label'].unique())\n",
        "print(\"Crops which requires very High Ratio of Potassium Content in Soil:\", data[data['K'] > 200]['label'].unique())\n",
        "print(\"Crops which requires very High Rainfall:\", data[data['rainfall'] > 200]['label'].unique())\n",
        "print(\"Crops which requires very Low Temperature :\", data[data['temperature'] < 10]['label'].unique())\n",
        "print(\"Crops which requires very High Temperature :\", data[data['temperature'] > 40]['label'].unique())\n",
        "print(\"Crops which requires very Low Humidity:\", data[data['humidity'] < 20]['label'].unique())\n",
        "print(\"Crops which requires very Low pH:\", data[data['ph'] < 4]['label'].unique())\n",
        "print(\"Crops which requires very High pH:\", data[data['ph'] > 9]['label'].unique())"
      ],
      "metadata": {
        "colab": {
          "base_uri": "https://localhost:8080/"
        },
        "id": "b8j9WVFymVHB",
        "outputId": "a88bf6f8-971e-43d5-fe5b-2eadf39fa678"
      },
      "execution_count": null,
      "outputs": [
        {
          "output_type": "stream",
          "name": "stdout",
          "text": [
            "Some Interesting Patterns\n",
            "---------------------------------\n",
            "Crops which requires very High Ratio of Nitrogen Content in Soil: ['cotton']\n",
            "Crops which requires very High Ratio of Phosphorous Content in Soil: ['grapes' 'apple']\n",
            "Crops which requires very High Ratio of Potassium Content in Soil: ['grapes' 'apple']\n",
            "Crops which requires very High Rainfall: ['rice' 'papaya' 'coconut']\n",
            "Crops which requires very Low Temperature : ['grapes']\n",
            "Crops which requires very High Temperature : ['grapes' 'papaya']\n",
            "Crops which requires very Low Humidity: ['chickpea' 'kidneybeans']\n",
            "Crops which requires very Low pH: ['mothbeans']\n",
            "Crops which requires very High pH: ['mothbeans']\n"
          ]
        }
      ]
    },
    {
      "cell_type": "code",
      "source": [
        "### Lets understand which crops can only be Grown in Summer Season, Winter Season and Rainy Season\n",
        "\n",
        "print(\"Summer Crops\")\n",
        "print(data[(data['temperature'] > 30) & (data['humidity'] > 50)]['label'].unique())\n",
        "print(\"-----------------------------------\")\n",
        "print(\"Winter Crops\")\n",
        "print(data[(data['temperature'] < 20) & (data['humidity'] > 30)]['label'].unique())\n",
        "print(\"-----------------------------------\")\n",
        "print(\"Rainy Crops\")\n",
        "print(data[(data['rainfall'] > 200) & (data['humidity'] > 30)]['label'].unique())"
      ],
      "metadata": {
        "colab": {
          "base_uri": "https://localhost:8080/"
        },
        "id": "0Ze9lm4Fmejt",
        "outputId": "abe8642d-5bdc-4463-b641-01a064f7949e"
      },
      "execution_count": null,
      "outputs": [
        {
          "output_type": "stream",
          "name": "stdout",
          "text": [
            "Summer Crops\n",
            "['pigeonpeas' 'mothbeans' 'blackgram' 'mango' 'grapes' 'orange' 'papaya']\n",
            "-----------------------------------\n",
            "Winter Crops\n",
            "['maize' 'pigeonpeas' 'lentil' 'pomegranate' 'grapes' 'orange']\n",
            "-----------------------------------\n",
            "Rainy Crops\n",
            "['rice' 'papaya' 'coconut']\n"
          ]
        }
      ]
    },
    {
      "cell_type": "markdown",
      "source": [
        "Predictive Modelling"
      ],
      "metadata": {
        "id": "RXCBo7Ilohj8"
      }
    },
    {
      "cell_type": "code",
      "source": [
        "y = data['label']\n",
        "x = data.drop(['label'], axis = 1)\n",
        "\n",
        "print(\"Shape of x:\", x.shape)\n",
        "print(\"Shape of y:\", y.shape)"
      ],
      "metadata": {
        "colab": {
          "base_uri": "https://localhost:8080/"
        },
        "id": "6fh2FlayoXTp",
        "outputId": "3e69eae5-1b7b-4ea3-dea2-32254c6fdcc7"
      },
      "execution_count": null,
      "outputs": [
        {
          "output_type": "stream",
          "name": "stdout",
          "text": [
            "Shape of x: (2200, 7)\n",
            "Shape of y: (2200,)\n"
          ]
        }
      ]
    },
    {
      "cell_type": "code",
      "source": [
        "from sklearn.model_selection import train_test_split\n",
        "\n",
        "x_train, x_test, y_train, y_test = train_test_split(x, y, test_size = 0.2, random_state = 0)\n",
        "\n",
        "print(\"The Shape of x train:\", x_train.shape)\n",
        "print(\"The Shape of x test:\", x_test.shape)\n",
        "print(\"The Shape of y train:\", y_train.shape)\n",
        "print(\"The Shape of y test:\", y_test.shape)"
      ],
      "metadata": {
        "colab": {
          "base_uri": "https://localhost:8080/"
        },
        "id": "gvGQosg1opzd",
        "outputId": "d055c146-2afb-467a-c972-6242ba68a1a8"
      },
      "execution_count": null,
      "outputs": [
        {
          "output_type": "stream",
          "name": "stdout",
          "text": [
            "The Shape of x train: (1760, 7)\n",
            "The Shape of x test: (440, 7)\n",
            "The Shape of y train: (1760,)\n",
            "The Shape of y test: (440,)\n"
          ]
        }
      ]
    },
    {
      "cell_type": "code",
      "source": [
        "from sklearn.metrics import classification_report\n",
        "from sklearn.metrics import accuracy_score,confusion_matrix,roc_auc_score\n",
        "from mlxtend.plotting import plot_confusion_matrix\n",
        "\n",
        "def evaluator(y_test, y_pred):    \n",
        "    # Accuracy:\n",
        "    print('Accuracy is: ', accuracy_score(y_test,y_pred))\n",
        "    print('')\n",
        "    # Classification Report:\n",
        "    print('Classification Report: \\n',classification_report(y_test,y_pred))\n",
        "\n",
        "    print('Confusion Matrix: \\n\\n')\n",
        "    plt.style.use(\"ggplot\")\n",
        "    cm = confusion_matrix(y_test,y_pred)\n",
        "    plot_confusion_matrix(conf_mat = cm,figsize=(10,10),show_normed=True)\n",
        "    plt.title('Confusion Matrix for Logistic Regression', fontsize = 15)\n",
        "    plt.show()"
      ],
      "metadata": {
        "id": "nIABdTmyouj0"
      },
      "execution_count": null,
      "outputs": []
    },
    {
      "cell_type": "code",
      "source": [
        "from sklearn.neighbors import KNeighborsClassifier\n",
        "\n",
        "kn_classifier = KNeighborsClassifier()\n",
        "kn_classifier.fit(x_train,y_train)\n",
        "\n",
        "pred_kn = kn_classifier.predict(x_test)\n",
        "evaluator(y_test, pred_kn)"
      ],
      "metadata": {
        "colab": {
          "base_uri": "https://localhost:8080/",
          "height": 1000
        },
        "id": "IElkFr4hpJQ6",
        "outputId": "890e94ef-bec6-4f34-9891-8c25b94ab65e"
      },
      "execution_count": null,
      "outputs": [
        {
          "output_type": "stream",
          "name": "stdout",
          "text": [
            "Accuracy is:  0.9772727272727273\n",
            "\n",
            "Classification Report: \n",
            "               precision    recall  f1-score   support\n",
            "\n",
            "       apple       1.00      1.00      1.00        18\n",
            "      banana       1.00      1.00      1.00        18\n",
            "   blackgram       1.00      1.00      1.00        22\n",
            "    chickpea       1.00      1.00      1.00        23\n",
            "     coconut       1.00      1.00      1.00        15\n",
            "      coffee       1.00      1.00      1.00        17\n",
            "      cotton       1.00      0.94      0.97        16\n",
            "      grapes       1.00      1.00      1.00        18\n",
            "        jute       0.79      0.90      0.84        21\n",
            " kidneybeans       0.91      1.00      0.95        20\n",
            "      lentil       1.00      1.00      1.00        17\n",
            "       maize       0.95      1.00      0.97        18\n",
            "       mango       1.00      1.00      1.00        21\n",
            "   mothbeans       1.00      1.00      1.00        25\n",
            "    mungbean       1.00      1.00      1.00        17\n",
            "   muskmelon       1.00      1.00      1.00        23\n",
            "      orange       1.00      1.00      1.00        23\n",
            "      papaya       1.00      1.00      1.00        21\n",
            "  pigeonpeas       1.00      0.91      0.95        22\n",
            " pomegranate       1.00      1.00      1.00        23\n",
            "        rice       0.91      0.80      0.85        25\n",
            "  watermelon       1.00      1.00      1.00        17\n",
            "\n",
            "    accuracy                           0.98       440\n",
            "   macro avg       0.98      0.98      0.98       440\n",
            "weighted avg       0.98      0.98      0.98       440\n",
            "\n",
            "Confusion Matrix: \n",
            "\n",
            "\n"
          ]
        },
        {
          "output_type": "display_data",
          "data": {
            "text/plain": [
              "<Figure size 720x720 with 1 Axes>"
            ],
            "image/png": "[encoded data removed]"
          },
          "metadata": {}
        }
      ]
    },
    {
      "cell_type": "code",
      "source": [
        "prediction = kn_classifier.predict((np.array([[90,\n",
        "                                       40,\n",
        "                                       40,\n",
        "                                       20,\n",
        "                                       80,\n",
        "                                       7,\n",
        "                                       200]])))\n",
        "print(\"The Suggested Crop for Given Climatic Condition is :\", prediction)"
      ],
      "metadata": {
        "colab": {
          "base_uri": "https://localhost:8080/"
        },
        "id": "-M5FkJFTqkPb",
        "outputId": "21346214-3268-40eb-afd2-69a7c83db01a"
      },
      "execution_count": null,
      "outputs": [
        {
          "output_type": "stream",
          "name": "stdout",
          "text": [
            "The Suggested Crop for Given Climatic Condition is : ['jute']\n"
          ]
        }
      ]
    }
  ]
}